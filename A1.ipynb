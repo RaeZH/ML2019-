{
  "nbformat": 4,
  "nbformat_minor": 0,
  "metadata": {
    "colab": {
      "name": "A1.ipynb",
      "version": "0.3.2",
      "provenance": [],
      "include_colab_link": true
    },
    "kernelspec": {
      "name": "python3",
      "display_name": "Python 3"
    }
  },
  "cells": [
    {
      "cell_type": "markdown",
      "metadata": {
        "id": "view-in-github",
        "colab_type": "text"
      },
      "source": [
        "<a href=\"https://colab.research.google.com/github/Worosei/ML2019-/blob/master/A1.ipynb\" target=\"_parent\"><img src=\"https://colab.research.google.com/assets/colab-badge.svg\" alt=\"Open In Colab\"/></a>"
      ]
    },
    {
      "cell_type": "markdown",
      "metadata": {
        "id": "CgNEETdoST_2",
        "colab_type": "text"
      },
      "source": [
        "**Title**\n",
        "Machine Learning 2019 Assignment 1:\n",
        "Critique on BEL97"
      ]
    },
    {
      "cell_type": "markdown",
      "metadata": {
        "id": "eViBC77zSWnu",
        "colab_type": "text"
      },
      "source": [
        "**Intro**\n",
        "<br>\n",
        "This report is critique and summary of Belhumeur et al (1997)'s paper on their 'Fisherfaces' algorithm for facial recognition ('BEL97')."
      ]
    },
    {
      "cell_type": "markdown",
      "metadata": {
        "id": "TExIwhyOSZks",
        "colab_type": "text"
      },
      "source": [
        "**Content**\n",
        "<br>\n",
        "BEL97 developed a new face recognition algorithm that remained strong even with large variations in lighting and facial expressions. The facial recognition test they did required identifying each person in a set of unlabelled images after being trained from a separate set of labelled images. These images came from databases from Harvard and Yale which they put into 3 separate groups; the first dealing only with different lighting conditions, the second with lighting and different facial expressions, and the third dealing with glasses-wearing. BEL97 developed their ‘Fisherfaces’ algorithm to solve this test and compared it to other algorithms. These algorithms were based off correlation, ‘Eigenfaces’ and a ‘Linear subspace method’. \n",
        "  \n",
        "The primary challenge that BEL97 wanted to solve was how to recognise faces without: \n",
        "1.\tbeing too computationally exhaustive (such as with the correlation method), \n",
        "2.\twithout being too affected by different lighting conditions (such as with the Eigenfaces method), and\n",
        "3.\tto recognise faces with different expressions or simple classifications such as wearing glasses or not (which can’t be picked up in the Linear subspace method). \n",
        "  \n",
        "BEL97’s ‘Fisherfaces’ algorithm was developed by ‘combining’ concepts from both the Eigenfaces and the Linear subspace method. They recognised that reducing dimensionality in Eigenfaces was more efficient and able to detect simple attributes, and recognised that through the Linear subspace metho, variation between images of different lighting falls in a linear subspace. The Fisherface algorithm therefore uses the Fisher Linear Discriminant to reduce dimensionality.  This resulted in lighting factors being mostly removed from classification and greatly improving face recognition in different lighting conditions.\n",
        "  \n",
        "With the datasets tested on, the Fisherface outperformed Eigenface in the most light-affected subset with error rates of 4.6% compared to the next best Linear Subspace of 9.2% and Eigenface of 41.5-47.7% error rates. They also achieved high accuracy rates for variations in facial expressions and with glasses worn.\n"
      ]
    },
    {
      "cell_type": "markdown",
      "metadata": {
        "id": "ivEBu-A5Sa-r",
        "colab_type": "text"
      },
      "source": [
        "**Innovation**\n",
        "  \n",
        "BEL97 made steps forward in proposing a new face recognition algorithm to deal with variations in lighting, facial expressions and eyewear. BEL97 were not the first to come up with the Fisher Linear Discriminant (Fisher 1936), nor were they the first to adapt lighting properties to make a linear subspace (Belheumer 1997, p 713). They were, however the first to come up with an algorithm that improved on the Eigenface algorithm with using linear discriminant analysis so that faces were not as affected by varying lighting conditions.   \n",
        "  \n",
        "‘Eigenfaces’, which reduced dimensionality through ‘principal component analysis’, was problematic as it is adversely affected by different lighting conditions. If the algorithm received images of different lighting, it would factor in those lighting effects when classifying images. This would result in poorly clustered spaces or classes smeared together, and consequently poor classification. BEL97 posited that it was not easy to just ‘remove’ the most offending components as it would too adversely impact classification. \n",
        "  \n",
        "BEL97 instead recognised that if an image had a Lambertian surface, all lighting conditions on that surface would fall in a 3D linear subspace. This ‘Linear subspace method was effective, however limited as surfaces were not purely Lambertian as self-shadowing and facial expressions had too much variability for the algorithm and it required the measurement of the distance between each person and the camera and was computationally expensive. \n",
        "BEL97 innovatively recognised that they could still use a linear subspace to reduce the dimensionality of images by using the Fisher Linear discriminant. This ‘removed’ lighting factors from classification and output drastically improved classification rates. \n",
        "  \n",
        "There are still some criticisms of the Fisherface algorithm, this includes requiring a lot of processing time (Patel 2013) and being heavily reliant on input training data (Kamila 2015). although Fisherface still remains “one of the popular algorithms used in face recognition…” (Anggo 2018). \n"
      ]
    },
    {
      "cell_type": "markdown",
      "metadata": {
        "id": "YsJ3NOlFSb8c",
        "colab_type": "text"
      },
      "source": [
        "**Technical Quality**\n",
        "  \n",
        "BEL97 has strong technical qualities insofar as it proposed a new technique for facial recognition based on certain conditions. BEL97’s algorithm was shown to be more effective than previously existing algorithms at identifying faces in the Harvard and Yale databases when dealing with different lighting. However there are some criticism that can be made of BEL97’s use of the Yale and Harvard database and justification of its algorithm:\n",
        "  \n",
        "*Algorithm justification*\n",
        "  \n",
        "The Fisherface method works due to reducing how light affects the classification of images. BEL97 acknowledges, however, that “there are certainly other ways…which we are currently investigating” (Belheumer 1997, 714), however BEL97 does not investigate this nor show justification why their method is elegant or the most efficient. In this way, BEL97 only shows a credible method of Fisherfaces and not an optimal solution.\n",
        "  \n",
        "*Database*\n",
        "\n",
        "Whilst BEL97 worked well for the Yale and Harvard data sets they used, there are questions on whether they would be sufficient in quantity or quality for testing purposes. BEL97 provides no justification on the adequacy of these numbers, nor explanation of each set’s representation of all demographics. \n",
        "Whilst the Harvard and Yales databases are good databases, when the Fisherface method was used on the YouTube Faces database, the Fisherface method “still has a way to go” (Martine-Diaz 2018,  533). \n"
      ]
    },
    {
      "cell_type": "markdown",
      "metadata": {
        "id": "HrsWOjmtSdRc",
        "colab_type": "text"
      },
      "source": [
        "**Application and X-Factor**\n",
        "  \n",
        "The Fisherfaces algorithm remains a popular recognition algorithm, being seen in many Python libraries like OpenCV. It’s popularity can probably be seen from its high accuracy and ability to deal with different lighting conditions.\n",
        "  \n",
        "Face recognition has been seen in many applications today and is one of the “most \\[important\\] biometrics authentication techniques from the past few years” (Patel 2013, p 189); from smartphone’s face unlock, Facebook photo recognition to Government security services at airports or surveillance cameras. \n",
        "  \n",
        "However, it is where biometric security is paramount that the Fisherface algorithm may not be the most effective to use as even the smallest errors can cause problems. There are numerous additional methods now to of facial recognition such as through neural networks, and geometric mapping that offer superior result (Patel 2013). There are also additional technologies that allow better face recognition such as 3D imaging and thermal cameras (Williams 2008).\n",
        "  \n",
        "Nonetheless, Fishrefaces is a quick and effective method for simple applications of face recognition, and it still is being seen as a credible algorithm for modern use such as with car security systems (Rahmat 2019) \n"
      ]
    },
    {
      "cell_type": "markdown",
      "metadata": {
        "id": "tgNonFlUSfhD",
        "colab_type": "text"
      },
      "source": [
        "**Presentation**\n",
        "  \n",
        "BEL97 is a concisely written paper. The background and parameters are quickly established with a thematic flow presented of how the Fisherface algorithm came about. Photos and diagrams are also appropriately placed with explanations of experiments undertaken. \n",
        "  \n",
        "Results presented however appear to be chosen to emphasise the benefits of the Fisherface method rather than a deeper analysis of the pros and cons of it. BEL97 simply questions whether the Fisherface method would fare well in larger databases or with poorer training data, where further studies have both shown that Fisherfaces fares poorer than BEL97’s results (Martine-Diaz 2018). \n",
        "\n"
      ]
    },
    {
      "cell_type": "markdown",
      "metadata": {
        "id": "i_7WoIjYShak",
        "colab_type": "text"
      },
      "source": [
        "**References**\n",
        "  \n",
        "* Belhumeur, P.N., Hespanha J.P., Kriegman, D.J., 1997, ‘Eigenfaces vs. Fisherfaces: Recognition Using Class Specific Linear Projection’, IEEE Transactions on Pattern analysis and Machine Learning, vol 19, no 7;\n",
        "* Fisher R. A., 1936, ‘The Use of Multiple Measures in Taxonomic Problems,’ Ann. Eugenics, vol 7;\n",
        "* Patel R. and  Yagni S. B., 2013, ‘A Literature Survey on Face Recognition Techniques’, International Journal of Computer Trends and Technology, vol 5 no 4;\n",
        "* Kamila N. (ed.), 2015, Handbook of Research on Emerging Perspectives in Intelligent Pattern Recognition, Analysis, and Image Processing, Advances in Computational Intelligence and Robotics, IGI Global;\n",
        "* Anggo M. and Arapu L., 2018, ‘Face Recognition Using Fisherface Method’, Journal of Physics: Conf. Series, no. 1028;\n",
        "* Martinez-Diaz Y., Mendez-Vazquez H., Lopez-Avila L., 2018, Toward More Realistic Face Recognition Evaluation Protocols for the YouTube Faces Database’, ,IEEE/CVF Conference on Computer Vision and Pattern Recognition Workshops, no 2160-7516/18;\n",
        "* Williams M., 2008, ‘Better Face-Recognition Software’, MIT Technology Review, 2 June, \\<https://www.technologyreview.com/s/407976/better-face-recognition-software>;\n",
        "* Rahmat R.F., Loi M.P., Faza S., Arisandi D., Budiarto R., 2019, ‘Facial Recognition for Car Security System Using Fisherface Method’, Journal of Physics: Conf. Series, no. 1235.\n",
        "  "
      ]
    }
  ]
}