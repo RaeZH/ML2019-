{
  "nbformat": 4,
  "nbformat_minor": 0,
  "metadata": {
    "colab": {
      "name": "A3 - Q3.ipynb",
      "provenance": [],
      "include_colab_link": true
    },
    "kernelspec": {
      "name": "python3",
      "display_name": "Python 3"
    }
  },
  "cells": [
    {
      "cell_type": "markdown",
      "metadata": {
        "id": "view-in-github",
        "colab_type": "text"
      },
      "source": [
        "<a href=\"https://colab.research.google.com/github/Worosei/ML2019-/blob/master/A3_Q3.ipynb\" target=\"_parent\"><img src=\"https://colab.research.google.com/assets/colab-badge.svg\" alt=\"Open In Colab\"/></a>"
      ]
    },
    {
      "cell_type": "code",
      "metadata": {
        "id": "Ci_FCupmYlfy",
        "colab_type": "code",
        "colab": {}
      },
      "source": [
        ""
      ],
      "execution_count": 0,
      "outputs": []
    },
    {
      "cell_type": "markdown",
      "metadata": {
        "id": "nBV6DidRYmYp",
        "colab_type": "text"
      },
      "source": [
        "31005 | Adv Data Analytics (Machine Learning)\n",
        "Assignment 3: Take Home Exam\n",
        "Question 3: \n",
        "https://github.com/Worosei/ML2019-/blob/master/A3_Q3.ipynb"
      ]
    },
    {
      "cell_type": "markdown",
      "metadata": {
        "id": "li4-gh-SYxqM",
        "colab_type": "text"
      },
      "source": [
        "#Introduction \n",
        "With the rise of the internet and social media, ‘viral marketing’ has become highly sought in the marketing industry (Howard 2005). For little cost, a message could be spread far wider and more effectively than traditional advertising (Petrescu and Korgaonkar 2011). \n",
        "\n",
        "Twitter is a microblogging and social media networking service which allows users to ‘tweet’ a message to the public and their followers. In turn, followers can ‘re-tweet’ that message to a potentially larger audience. In this way. A message sent by one person can spread and be disseminated to a huge audience. This makes it a great marketing tool to reach a wide audience. For example, sportswear company Nike currently has the largest twitter event on record with more than 13 million views and 85 000 mentions for their  #breaking2 event. \n",
        "\n",
        "The question remains for marketing companies, how does one create a message that will be ‘re-tweeted’, and consequently gain ‘traction’ to spread and hopefully go ‘viral’. \n",
        "\n"
      ]
    },
    {
      "cell_type": "markdown",
      "metadata": {
        "id": "TYhES62VY630",
        "colab_type": "text"
      },
      "source": [
        "#Why its hard to solve\n",
        "The difficulty in solving this problem comes from the thousands of factors that could influence the chance of a tweet going ‘viral’. First there are factors about the tweeter; such as if someone is considered ‘popular’ enough to re-tweet. Then there are factors about the content of the tweet itself; does it interest people and make them want to share that tweet? And then are there are external uncontrollable factors or time-based factors affecting tweets such as tweeting about a new umbrella during a drought. The problem gets caught up in the ‘curse of dimensionality’.   \n",
        "\n",
        "In addition, having a tweet go ‘viral’ poses problems too. Li et al (2019) demonstrated that even with re-tweets, a factor of ‘infectivity’ is still needed where the size of the coverage as the timeliness of the re-tweets are needed in order to become ‘hot’ and go ‘viral’. \n",
        "\n",
        "Ultimately, even if all these factors are all worked out properly, it may not give the ability to ‘craft’ the message that you want, and the message could end up going viral, but for the wrong reasons. \n"
      ]
    },
    {
      "cell_type": "markdown",
      "metadata": {
        "id": "e7R7bG2JZEVv",
        "colab_type": "text"
      },
      "source": [
        "#Approaches\n",
        "##Celebrity Followers\n",
        "###Method\n",
        "The first and probably simplest approach in working out whether a tweet goes viral is through looking at if the tweeter is a celebrity, and that celebrity has a high number of followers. \n",
        "Gandy and Hemphill (2014) took the top 5000 most popular celebrities and analysed their twitter accounts. They collected data pertaining to that celebrity such as their number of followers, profile URL, profile synopsis and profile image. They also detailed characteristics of each tweet such as whether they contained a photos or videos, mentioned of other users or uses other hashtags or if the tweet contained questions. \n",
        "\n",
        "They determined which tweet was ‘viral’ by using an outlier detection method; considering the most re-tweeted as viral. Then after using a recursive partitioning decision tree, they determined that predominant factor whether a celebrity’s tweet went viral was based off the number of followers that celebrity had. \n",
        "\n",
        "It is important to note, that the condition of being a ‘celebrity’ entails several other factors. For example, how often the original tweeter is mentioned on twitter, which Yang and Counts (2010) found as a contributing factor. Celebrities being popular are likely to be mentioned more often. It is insufficient to base it just off the number of followers since Cha et al (2010) found that re-tweeting was not driven by the number of followers a person has. \n",
        "The benefit of using a popularly followed ‘celebrity’ as the main metric for creating a viral tweet is that it cares less about the content of the tweet, so marketing-wise, a company can potentially get a viral tweet for their own content than having to follow a ‘trend’.  \n",
        "\n",
        "###Validation\n",
        "Once a celebrity had more than 1,614,260 followers, then their model predicted whether a tweet goes viral with 78% precision with 99% recall. \n",
        "\n",
        "\t\n",
        "##Sentiment\n",
        "###Method\n",
        "An interesting way in predicting whether a tweet is retweeted can be made from looking at the ‘sentiment’ of the tweet. Writing a tweet to have a wide degree of emotions can help improve its chances of going viral. \n",
        "\n",
        "Pfitzner et al (2012) analysed the ‘sentiment’ of each tweet using the ‘SentiStrength’ classifier (Thelwall et al. 2010, Pfitzner 2012, p. 543). They noted for each tweet the range of its most ‘positive’ score (between 1 to 5) and its most ‘negative’ score  (between -1 and -5) and calculated that ‘emotional divergence’. They found that when there was a clear threshold that showed that there was a strong correlation between a tweet becoming successful and a higher emotional divergence. \n",
        "\n",
        "Jenders et al (2013) furthered this analysis finding that divergence of 0.7 or greater had an over 20% re-tweet probability. They then used a generalised linear model combining this emotional divergence characteristic with several other features. The model provided the most significant weighting to the number of followers (interestingly, contrary to Cha et al (2010)) and a non-insignificant weighting to emotional divergence. \n",
        "\n",
        "Although only a small factor, it still provides control to a marketing firm to control the content said, provided it’s said in a ‘dramatic’ manner. \n",
        "\n",
        "###Validation\n",
        "Jenders validated their approach through ten-fold cross-validation. They set a threshold of 50, 100, 200 and 1000 re-tweets and calculated the resulting f-measure scores, which ranged from 0.936 to 0.968.  \t\t\n"
      ]
    },
    {
      "cell_type": "markdown",
      "metadata": {
        "id": "d_-OmfexZb4k",
        "colab_type": "text"
      },
      "source": [
        "#Ethical and Social Consequences\n",
        "Constructing a tweet to go viral for marketing purposes has ethical and social considerations to make. \n",
        "\n",
        "First, is that it creates a degree of misinformation. Arguably, Social Media Networks are meant to be used for real information and keeping up with friends and families or following news. If a celebrity is used to market a certain tweet, or words are crafted specifically to be attractive and not truthful, then it devalues any sense of ‘truth’ to a person’s word or the platform.\n",
        "\n",
        "Secondly, if you’re using a free platform used for the spreading of information for advertising and commercial purposes. By introducing specially crafted commercial tweets, a company is gaining free marketing exposure for ‘non-material’. If a trend of commercial tweets continues, it may devalue the use of Twitter such so that no messages on it becomes read or persuasive enough to be re-tweeted.\n",
        "\n",
        "Lastly is the potential to mislead. If a celebrity promotes a product without being genuine about it, that can be impressionable on fans of that celebrity. In this way, especially children, can be easily influenced and affected especially when they look at celebrities as role models.\n"
      ]
    },
    {
      "cell_type": "markdown",
      "metadata": {
        "id": "2RPESqL4Zdee",
        "colab_type": "text"
      },
      "source": [
        "#Conclusion\n",
        "As can be seen, there are ways in which can see if a tweet goes viral. Constructing a tweet to go viral may be the harder issue, but if you get Barack Obama, Katy Perry or Justin Bieber to tweet your post with emotional gusto; then there’s a high chance ‘your’ message can go viral. There \n"
      ]
    },
    {
      "cell_type": "markdown",
      "metadata": {
        "id": "B2O8IwVbZfv6",
        "colab_type": "text"
      },
      "source": [
        "#References\n",
        "* Petrescu M. and Korgaonkar P., 2011, ‘Viral Advertising: Definitional Review and Synthesis’, Journal of Internet Commerce, 10:208–226, 2011\n",
        "\n",
        "* Howard T., 2005, ‘‘Viral' advertising spreads through marketing plans’, USA Today, 23 June 2005, p 06B.\n",
        "\n",
        "* Gandy L., and Hemphill L., ‘Will this Celebrity Tweet Go Viral? An Investigation of Retweets’, Academy of Science and Engineering 2014, \n",
        "\n",
        "* Cha M., Haddad H., Benevenuto F., and Gummadi P. K., 2010, ‘Measuring user influence in twitter: The million follower fallacy’ ICWSM, vol. 10, pp. 10-17\n",
        "\n",
        "* Yang J. and Counts S., 2010, ‘Predicting the speed, scale, and range of information diffusion in twitter.\" ICWSM, vol. 10, pp. 355-358.\n",
        "\n",
        "* Pfitnzer R., Garas A. and Schweitzer F., 2012, ‘Emotional Divergence Influences Information Spreading in Twitter’, Proceedings of the Sixth International AAA Conference on Weblogs and Social Media, \n",
        "\n",
        "* Thelwall M., Buckley K., Paltoglou G., Cai D. and Kappas A., 2010, 'Sentiment strength detection in short informal text', Journal of the American Society for Information Science and Technology Vol 61(12) pp 2544–2558\n"
      ]
    },
    {
      "cell_type": "markdown",
      "metadata": {
        "id": "9y3PD14sZBTJ",
        "colab_type": "text"
      },
      "source": [
        ""
      ]
    }
  ]
}